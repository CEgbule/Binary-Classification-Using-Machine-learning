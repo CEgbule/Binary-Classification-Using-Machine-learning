{
 "cells": [
  {
   "cell_type": "markdown",
   "metadata": {
    "application/vnd.databricks.v1+cell": {
     "cellMetadata": {
      "byteLimit": 2048000,
      "rowLimit": 10000
     },
     "inputWidgets": {},
     "nuid": "d50c6ffb-c2c8-419c-a99e-215a9de94914",
     "showTitle": false,
     "title": ""
    }
   },
   "source": [
    "#### Importating Necessary Libraries"
   ]
  },
  {
   "cell_type": "code",
   "execution_count": 0,
   "metadata": {
    "application/vnd.databricks.v1+cell": {
     "cellMetadata": {
      "byteLimit": 2048000,
      "rowLimit": 10000
     },
     "inputWidgets": {},
     "nuid": "1df28013-ee6f-4149-bc06-9d67d510484d",
     "showTitle": false,
     "title": ""
    }
   },
   "outputs": [],
   "source": [
    "# Import necessary libraries\n",
    "import numpy as np\n",
    "import pandas as pd\n",
    "import matplotlib.pyplot as plt\n",
    "import seaborn as sns\n",
    "import mlflow\n",
    "from pyspark.sql.functions import col, explode\n",
    "from pyspark.sql import SparkSession\n",
    "from pyspark.sql.window import Window\n",
    "from pyspark.sql import functions as F\n",
    "from pyspark.ml.feature import RFormula\n",
    "from pyspark.ml.recommendation import ALS\n",
    "from pyspark.ml.evaluation import RegressionEvaluator\n",
    "from pyspark.ml.tuning import ParamGridBuilder, CrossValidator\n",
    "mlflow.pyspark.ml.autolog()"
   ]
  },
  {
   "cell_type": "markdown",
   "metadata": {
    "application/vnd.databricks.v1+cell": {
     "cellMetadata": {
      "byteLimit": 2048000,
      "rowLimit": 10000
     },
     "inputWidgets": {},
     "nuid": "f21abf95-349d-4538-b9d7-c4e7634f0038",
     "showTitle": false,
     "title": ""
    }
   },
   "source": [
    "#### Creating SparkSession And Loading Dataset Into A Spark DataFrame"
   ]
  },
  {
   "cell_type": "code",
   "execution_count": 0,
   "metadata": {
    "application/vnd.databricks.v1+cell": {
     "cellMetadata": {
      "byteLimit": 2048000,
      "rowLimit": 10000
     },
     "inputWidgets": {},
     "nuid": "8fbd14c4-d386-46e6-9413-6e2542d926a5",
     "showTitle": false,
     "title": ""
    }
   },
   "outputs": [],
   "source": [
    "# Create a SparkSession\n",
    "spark = SparkSession.builder \\\n",
    "    .appName(\"Steam Recommender System\") \\\n",
    "    .getOrCreate()"
   ]
  },
  {
   "cell_type": "code",
   "execution_count": 0,
   "metadata": {
    "application/vnd.databricks.v1+cell": {
     "cellMetadata": {
      "byteLimit": 2048000,
      "rowLimit": 10000
     },
     "inputWidgets": {},
     "nuid": "2af9211d-0aa0-4fb6-b3ac-1ea04deb7eb3",
     "showTitle": false,
     "title": ""
    }
   },
   "outputs": [],
   "source": [
    "# Load the dataset into a Spark DataFrame with header and inferring schema\n",
    "steam_df = spark.read.csv(\"dbfs:/FileStore/tables/steam_200k.csv\", header=True, inferSchema=True) \\\n",
    "                .toDF(\"UserID\", \"game_name\", \"User_Behavior\", \"Hours_Played\")\n"
   ]
  },
  {
   "cell_type": "code",
   "execution_count": 0,
   "metadata": {
    "application/vnd.databricks.v1+cell": {
     "cellMetadata": {
      "byteLimit": 2048000,
      "rowLimit": 10000
     },
     "inputWidgets": {},
     "nuid": "ca305e63-20a0-405a-9e2b-6165a9ca1d9e",
     "showTitle": false,
     "title": ""
    }
   },
   "outputs": [
    {
     "output_type": "stream",
     "name": "stdout",
     "output_type": "stream",
     "text": [
      "root\n |-- UserID: integer (nullable = true)\n |-- game_name: string (nullable = true)\n |-- User_Behavior: string (nullable = true)\n |-- Hours_Played: double (nullable = true)\n\n+---------+--------------------+-------------+------------+\n|   UserID|           game_name|User_Behavior|Hours_Played|\n+---------+--------------------+-------------+------------+\n|151603712|The Elder Scrolls...|         play|       273.0|\n|151603712|           Fallout 4|     purchase|         1.0|\n|151603712|           Fallout 4|         play|        87.0|\n|151603712|               Spore|     purchase|         1.0|\n|151603712|               Spore|         play|        14.9|\n+---------+--------------------+-------------+------------+\nonly showing top 5 rows\n\n"
     ]
    }
   ],
   "source": [
    "# Show the schema and first few rows of the DataFrame\n",
    "steam_df.printSchema()\n",
    "steam_df.show(5)\n"
   ]
  },
  {
   "cell_type": "code",
   "execution_count": 0,
   "metadata": {
    "application/vnd.databricks.v1+cell": {
     "cellMetadata": {
      "byteLimit": 2048000,
      "rowLimit": 10000
     },
     "inputWidgets": {},
     "nuid": "1687b9d5-576c-4868-ba9b-7b186c5b42fb",
     "showTitle": false,
     "title": ""
    }
   },
   "outputs": [
    {
     "output_type": "stream",
     "name": "stdout",
     "output_type": "stream",
     "text": [
      "Summary statistics of numerical columns:\n+-------+--------------------+----------------+-------------+------------------+\n|summary|              UserID|       game_name|User_Behavior|      Hours_Played|\n+-------+--------------------+----------------+-------------+------------------+\n|  count|              199999|          199999|       199999|            199999|\n|   mean|1.0365562620621103E8|           140.0|         NULL|17.874468372341777|\n| stddev|  7.20808355946763E7|             0.0|         NULL| 138.0572916399091|\n|    min|                5250|     007 Legends|         play|               0.1|\n|    max|           309903146|theHunter Primal|     purchase|           11754.0|\n+-------+--------------------+----------------+-------------+------------------+\n\n"
     ]
    }
   ],
   "source": [
    "# Summary statistics of numerical columns\n",
    "print(\"Summary statistics of numerical columns:\")\n",
    "steam_df.describe().show()"
   ]
  },
  {
   "cell_type": "code",
   "execution_count": 0,
   "metadata": {
    "application/vnd.databricks.v1+cell": {
     "cellMetadata": {
      "byteLimit": 2048000,
      "rowLimit": 10000
     },
     "inputWidgets": {},
     "nuid": "d7daf593-46e6-40b3-bbff-ba9ef6a8bc93",
     "showTitle": false,
     "title": ""
    }
   },
   "outputs": [],
   "source": [
    "# Filter the dataset to include only 'play' behavior\n",
    "play_data = steam_df.filter(steam_df['User_Behavior'] == 'play').select('Hours_Played')\n"
   ]
  },
  {
   "cell_type": "code",
   "execution_count": 0,
   "metadata": {
    "application/vnd.databricks.v1+cell": {
     "cellMetadata": {
      "byteLimit": 2048000,
      "rowLimit": 10000
     },
     "inputWidgets": {},
     "nuid": "dac98ccc-ba1d-4337-bded-39796922d62c",
     "showTitle": false,
     "title": ""
    }
   },
   "outputs": [
    {
     "output_type": "stream",
     "name": "stdout",
     "output_type": "stream",
     "text": [
      "+------------+\n|Hours_Played|\n+------------+\n|       273.0|\n|        87.0|\n|        14.9|\n|        12.1|\n|         8.9|\n+------------+\nonly showing top 5 rows\n\n"
     ]
    }
   ],
   "source": [
    "# Show 5 play_data\n",
    "play_data.show(5)"
   ]
  },
  {
   "cell_type": "markdown",
   "metadata": {
    "application/vnd.databricks.v1+cell": {
     "cellMetadata": {
      "byteLimit": 2048000,
      "rowLimit": 10000
     },
     "inputWidgets": {},
     "nuid": "00c23b93-6f1b-4f44-82a5-2c58d8d9b356",
     "showTitle": false,
     "title": ""
    }
   },
   "source": [
    "#### Data Exploration"
   ]
  },
  {
   "cell_type": "code",
   "execution_count": 0,
   "metadata": {
    "application/vnd.databricks.v1+cell": {
     "cellMetadata": {
      "byteLimit": 2048000,
      "rowLimit": 10000
     },
     "inputWidgets": {},
     "nuid": "4dbf88c8-2096-4185-b262-21a6ef95f2ac",
     "showTitle": false,
     "title": ""
    }
   },
   "outputs": [
    {
     "output_type": "display_data",
     "data": {
      "image/png": "[encoded data removed]",
      "text/plain": [
       "<Figure size 640x480 with 1 Axes>"
      ]
     },
     "metadata": {},
     "output_type": "display_data"
    }
   ],
   "source": [
    "# Histogram of play hours\n",
    "plt.hist(play_data.toPandas()['Hours_Played'], bins=20, color='red', edgecolor='black')\n",
    "plt.xlabel('Hours Played', fontsize=12)\n",
    "plt.ylabel('Frequency')\n",
    "plt.title('Distribution of Play Hours')\n",
    "plt.show()"
   ]
  },
  {
   "cell_type": "code",
   "execution_count": 0,
   "metadata": {
    "application/vnd.databricks.v1+cell": {
     "cellMetadata": {
      "byteLimit": 2048000,
      "rowLimit": 10000
     },
     "inputWidgets": {},
     "nuid": "cf09ea32-767f-434d-9949-e567913366a8",
     "showTitle": false,
     "title": ""
    }
   },
   "outputs": [
    {
     "output_type": "display_data",
     "data": {
      "image/png": "[encoded data removed]",
      "text/plain": [
       "<Figure size 1000x600 with 1 Axes>"
      ]
     },
     "metadata": {},
     "output_type": "display_data"
    }
   ],
   "source": [
    "# Top N Games Played\n",
    "top_n = 10\n",
    "top_games = steam_df.groupBy('Game_Name').count().orderBy('count', ascending=False).limit(top_n).toPandas()\n",
    "\n",
    "plt.figure(figsize=(10, 6))\n",
    "sns.barplot(x='Game_Name', y='count', data=top_games, palette='viridis')\n",
    "plt.xlabel('Game Name')\n",
    "plt.ylabel('Number of Hours Played')\n",
    "plt.title(f'Top {top_n} Most Played Games')\n",
    "plt.xticks(rotation=45)\n",
    "plt.show()"
   ]
  },
  {
   "cell_type": "code",
   "execution_count": 0,
   "metadata": {
    "application/vnd.databricks.v1+cell": {
     "cellMetadata": {
      "byteLimit": 2048000,
      "rowLimit": 10000
     },
     "inputWidgets": {},
     "nuid": "90231d58-ac41-4b51-b6f0-121a8fcb86e2",
     "showTitle": false,
     "title": ""
    }
   },
   "outputs": [
    {
     "output_type": "display_data",
     "data": {
      "image/png": "[encoded data removed]",
      "text/plain": [
       "<Figure size 800x600 with 1 Axes>"
      ]
     },
     "metadata": {},
     "output_type": "display_data"
    }
   ],
   "source": [
    "# Boxplot of Hours Played by User Behavior\n",
    "plt.figure(figsize=(8, 6))\n",
    "sns.boxplot(x='User_Behavior', y='Hours_Played', data=steam_df.toPandas(), palette='Set3')\n",
    "plt.xlabel('User Behavior')\n",
    "plt.ylabel('Hours Played')\n",
    "plt.title('Distribution of Hours Played by User Behavior')\n",
    "plt.show()\n"
   ]
  },
  {
   "cell_type": "markdown",
   "metadata": {
    "application/vnd.databricks.v1+cell": {
     "cellMetadata": {
      "byteLimit": 2048000,
      "rowLimit": 10000
     },
     "inputWidgets": {},
     "nuid": "9d6d1853-ac15-4722-b5fd-ae801fad5775",
     "showTitle": false,
     "title": ""
    }
   },
   "source": [
    "####  Preprocessing The Data"
   ]
  },
  {
   "cell_type": "code",
   "execution_count": 0,
   "metadata": {
    "application/vnd.databricks.v1+cell": {
     "cellMetadata": {
      "byteLimit": 2048000,
      "rowLimit": 10000
     },
     "inputWidgets": {},
     "nuid": "c3c1891e-8f2e-44cb-bb89-13725287c69f",
     "showTitle": false,
     "title": ""
    }
   },
   "outputs": [],
   "source": [
    "# Generating unique integer IDs for games based on game names\n",
    "\n",
    "# Create a window specification\n",
    "windowSpec = Window.orderBy(\"game_name\")\n",
    "\n",
    "# Add a row number column\n",
    "game_id = steam_df.select('game_name').distinct().withColumn(\"game_id\", F.row_number().over(windowSpec))\n"
   ]
  },
  {
   "cell_type": "code",
   "execution_count": 0,
   "metadata": {
    "application/vnd.databricks.v1+cell": {
     "cellMetadata": {
      "byteLimit": 2048000,
      "rowLimit": 10000
     },
     "inputWidgets": {},
     "nuid": "fa25da2b-f9f8-43ee-a489-ec1d07738406",
     "showTitle": false,
     "title": ""
    }
   },
   "outputs": [
    {
     "output_type": "stream",
     "name": "stdout",
     "output_type": "stream",
     "text": [
      "+--------------------+-------+\n|           game_name|game_id|\n+--------------------+-------+\n|         007 Legends|      1|\n|           0RBITALIS|      2|\n|1... 2... 3... KI...|      3|\n|     10 Second Ninja|      4|\n|          10,000,000|      5|\n+--------------------+-------+\nonly showing top 5 rows\n\n"
     ]
    }
   ],
   "source": [
    "# Show the DataFrame with added game IDs\n",
    "game_id.show(5)"
   ]
  },
  {
   "cell_type": "code",
   "execution_count": 0,
   "metadata": {
    "application/vnd.databricks.v1+cell": {
     "cellMetadata": {
      "byteLimit": 2048000,
      "rowLimit": 10000
     },
     "inputWidgets": {},
     "nuid": "40a84d48-a417-42e1-8805-1cf05a204a9d",
     "showTitle": false,
     "title": ""
    }
   },
   "outputs": [
    {
     "output_type": "stream",
     "name": "stdout",
     "output_type": "stream",
     "text": [
      "root\n |-- game_name: string (nullable = true)\n |-- UserID: integer (nullable = true)\n |-- User_Behavior: string (nullable = true)\n |-- Hours_Played: double (nullable = true)\n |-- game_id: integer (nullable = true)\n\n"
     ]
    }
   ],
   "source": [
    "# Join the game IDs with the original DataFrame\n",
    "steam_df_with_ids = steam_df.join(game_id, on='game_name', how='left')\n",
    "\n",
    "\n",
    "# Print the schema of the DataFrame with added game IDs\n",
    "steam_df_with_ids.printSchema()\n"
   ]
  },
  {
   "cell_type": "code",
   "execution_count": 0,
   "metadata": {
    "application/vnd.databricks.v1+cell": {
     "cellMetadata": {
      "byteLimit": 2048000,
      "rowLimit": 10000
     },
     "inputWidgets": {},
     "nuid": "30845392-8e05-42cd-ab4a-8dbc0ac028ad",
     "showTitle": false,
     "title": ""
    }
   },
   "outputs": [],
   "source": [
    "# Handle missing values\n",
    "training_data = steam_df_with_ids.na.drop(subset=[\"UserID\", \"game_id\", \"Hours_Played\"])"
   ]
  },
  {
   "cell_type": "code",
   "execution_count": 0,
   "metadata": {
    "application/vnd.databricks.v1+cell": {
     "cellMetadata": {
      "byteLimit": 2048000,
      "rowLimit": 10000
     },
     "inputWidgets": {},
     "nuid": "8fe64c6e-37da-480d-978a-381cb0fa6f9e",
     "showTitle": false,
     "title": ""
    }
   },
   "outputs": [
    {
     "output_type": "stream",
     "name": "stderr",
     "output_type": "stream",
     "text": [
      "2024/05/01 08:03:59 INFO mlflow.utils.autologging_utils: Created MLflow autologging run with ID '20f77dbf731741e6be45acded0ea3518', which will track hyperparameters, performance metrics, model artifacts, and lineage information for the current pyspark.ml workflow\n"
     ]
    },
    {
     "output_type": "stream",
     "name": "stdout",
     "output_type": "stream",
     "text": [
      "+--------------------+---------+-------------+------------+-------+--------------------+-----+\n|           game_name|   UserID|User_Behavior|Hours_Played|game_id|            features|label|\n+--------------------+---------+-------------+------------+-------+--------------------+-----+\n|The Elder Scrolls...|151603712|         play|       273.0|   4365|(5157,[8,5154,515...|  1.0|\n|           Fallout 4|151603712|     purchase|         1.0|   1679|(5157,[100,5154,5...|  0.0|\n|           Fallout 4|151603712|         play|        87.0|   1679|(5157,[100,5154,5...|  1.0|\n|               Spore|151603712|     purchase|         1.0|   3998|(5157,[332,5154,5...|  0.0|\n|               Spore|151603712|         play|        14.9|   3998|(5157,[332,5154,5...|  1.0|\n+--------------------+---------+-------------+------------+-------+--------------------+-----+\nonly showing top 5 rows\n\n"
     ]
    }
   ],
   "source": [
    "# Preprocess data into correct format\n",
    "preprocess = RFormula(formula=\"User_Behavior ~ .\")\n",
    "steam_df_with_ids = preprocess.fit(steam_df_with_ids).transform(steam_df_with_ids)\n",
    "steam_df_with_ids.show(5)"
   ]
  },
  {
   "cell_type": "code",
   "execution_count": 0,
   "metadata": {
    "application/vnd.databricks.v1+cell": {
     "cellMetadata": {
      "byteLimit": 2048000,
      "rowLimit": 10000
     },
     "inputWidgets": {},
     "nuid": "185446e2-1c9a-4eea-be3c-1fcc5747ef71",
     "showTitle": false,
     "title": ""
    }
   },
   "outputs": [],
   "source": [
    "# Selecting Game name and ID for recommendation\n",
    "game_rec =  steam_df_with_ids.select(\"game_name\", \"game_id\")"
   ]
  },
  {
   "cell_type": "code",
   "execution_count": 0,
   "metadata": {
    "application/vnd.databricks.v1+cell": {
     "cellMetadata": {
      "byteLimit": 2048000,
      "rowLimit": 10000
     },
     "inputWidgets": {},
     "nuid": "85637198-dd87-488c-933e-f3803104025e",
     "showTitle": false,
     "title": ""
    }
   },
   "outputs": [],
   "source": [
    "# Filter the dataset to include only 'play' behavior\n",
    "play_data = steam_df_with_ids.filter(steam_df_with_ids['User_Behavior'] == 'play')\n"
   ]
  },
  {
   "cell_type": "code",
   "execution_count": 0,
   "metadata": {
    "application/vnd.databricks.v1+cell": {
     "cellMetadata": {
      "byteLimit": 2048000,
      "rowLimit": 10000
     },
     "inputWidgets": {},
     "nuid": "43b30e87-2563-44d7-9e2d-40d5a65ceafc",
     "showTitle": false,
     "title": ""
    }
   },
   "outputs": [
    {
     "output_type": "stream",
     "name": "stdout",
     "output_type": "stream",
     "text": [
      "+------+---------+-------------+------------+\n|UserID|game_name|User_Behavior|Hours_Played|\n+------+---------+-------------+------------+\n|     0|        0|            0|           0|\n+------+---------+-------------+------------+\n\n"
     ]
    }
   ],
   "source": [
    "# Checking for missing values\n",
    "steam_df_with_ids.select([F.count(F.when(F.isnan(c) | F.isnull(c), c)).alias(c) for c in steam_df.columns]).show()\n"
   ]
  },
  {
   "cell_type": "code",
   "execution_count": 0,
   "metadata": {
    "application/vnd.databricks.v1+cell": {
     "cellMetadata": {
      "byteLimit": 2048000,
      "rowLimit": 10000
     },
     "inputWidgets": {},
     "nuid": "4b1fa69a-6134-4aab-8092-d677009ed823",
     "showTitle": false,
     "title": ""
    }
   },
   "outputs": [],
   "source": [
    "# Arrange in the correct format\n",
    "play_data_format = play_data.select(\"UserID\", \"game_id\", \"Hours_Played\")"
   ]
  },
  {
   "cell_type": "code",
   "execution_count": 0,
   "metadata": {
    "application/vnd.databricks.v1+cell": {
     "cellMetadata": {
      "byteLimit": 2048000,
      "rowLimit": 10000
     },
     "inputWidgets": {},
     "nuid": "2d5212a4-2c44-40cc-9e11-e170312582d6",
     "showTitle": false,
     "title": ""
    }
   },
   "outputs": [
    {
     "output_type": "stream",
     "name": "stdout",
     "output_type": "stream",
     "text": [
      "+---------+-------+------------+\n|   UserID|game_id|Hours_Played|\n+---------+-------+------------+\n|151603712|   3998|        14.9|\n|151603712|   1680|        12.1|\n|151603712|   2476|         8.9|\n|151603712|   2194|         8.5|\n|151603712|   3115|         8.1|\n|151603712|   3214|         7.5|\n|151603712|   2475|         3.3|\n|151603712|   4258|         2.8|\n|151603712|   4645|         2.5|\n|151603712|   4306|         2.0|\n|151603712|   1141|         1.4|\n|151603712|    523|         1.3|\n|151603712|   1360|         1.3|\n|151603712|   1675|         0.8|\n|151603712|   3629|         0.8|\n|151603712|   1977|         0.6|\n|151603712|   3451|         0.5|\n|151603712|   2657|         0.5|\n|151603712|   1473|         0.5|\n|151603712|   1337|         0.5|\n+---------+-------+------------+\nonly showing top 20 rows\n\n"
     ]
    }
   ],
   "source": [
    "# Calculate quartiles\n",
    "quantiles = play_data_format.approxQuantile('Hours_Played', [0.25, 0.75], 0.05)\n",
    " \n",
    "# Calculate IQR\n",
    "q1 = quantiles[0]\n",
    "q3 = quantiles[1]\n",
    "iqr = q3 - q1\n",
    " \n",
    "# Define lower and upper bounds for outlier detection\n",
    "lower_bound = q1 - (1.5 * iqr)\n",
    "upper_bound = q3 + (1.5 * iqr)\n",
    " \n",
    "# Filter out rows outside the lower and upper bounds\n",
    "steamplay_df_without_outliers = play_data_format.filter((col('Hours_Played') >= lower_bound) & (col('Hours_Played') <= upper_bound))\n",
    " \n",
    "# Show the cleaned DataFrame\n",
    "steamplay_df_without_outliers.show()\n"
   ]
  },
  {
   "cell_type": "code",
   "execution_count": 0,
   "metadata": {
    "application/vnd.databricks.v1+cell": {
     "cellMetadata": {
      "byteLimit": 2048000,
      "rowLimit": 10000
     },
     "inputWidgets": {},
     "nuid": "25411dbe-b412-400d-b151-c1cfe850369f",
     "showTitle": false,
     "title": ""
    }
   },
   "outputs": [
    {
     "output_type": "display_data",
     "data": {
      "image/png": "[encoded data removed]",
      "text/plain": [
       "<Figure size 640x480 with 1 Axes>"
      ]
     },
     "metadata": {},
     "output_type": "display_data"
    }
   ],
   "source": [
    "# Plot Histogram to show steamplay_df_without_outliers\n",
    "plt.hist(steamplay_df_without_outliers.toPandas()['Hours_Played'], bins=20, color='blue', edgecolor='black')\n",
    "plt.xlabel('Hours Played', fontsize=12)\n",
    "plt.ylabel('Frequency')\n",
    "plt.title('Distribution of Play Hours (Without Outliers)')\n",
    "plt.show()"
   ]
  },
  {
   "cell_type": "markdown",
   "metadata": {
    "application/vnd.databricks.v1+cell": {
     "cellMetadata": {
      "byteLimit": 2048000,
      "rowLimit": 10000
     },
     "inputWidgets": {},
     "nuid": "f98a4c61-5acc-49a3-9c00-a178da5b6eba",
     "showTitle": false,
     "title": ""
    }
   },
   "source": [
    "#### Training the data set"
   ]
  },
  {
   "cell_type": "code",
   "execution_count": 0,
   "metadata": {
    "application/vnd.databricks.v1+cell": {
     "cellMetadata": {
      "byteLimit": 2048000,
      "rowLimit": 10000
     },
     "inputWidgets": {},
     "nuid": "c79a106c-5c82-4903-8423-78af91b32389",
     "showTitle": false,
     "title": ""
    }
   },
   "outputs": [],
   "source": [
    "# Split the data into training and testing sets (80% training, 20% test)\n",
    "(training_data, testing_data) = steamplay_df_without_outliers.randomSplit([0.8, 0.2])"
   ]
  },
  {
   "cell_type": "code",
   "execution_count": 0,
   "metadata": {
    "application/vnd.databricks.v1+cell": {
     "cellMetadata": {
      "byteLimit": 2048000,
      "rowLimit": 10000
     },
     "inputWidgets": {},
     "nuid": "a58bd97d-1dff-409c-959d-301ddbd5aaab",
     "showTitle": false,
     "title": ""
    }
   },
   "outputs": [],
   "source": [
    "# Initialize the ALS model\n",
    "als = ALS(maxIter=10, regParam=0.1, userCol=\"UserID\", itemCol=\"game_id\", ratingCol=\"Hours_Played\", seed=100, nonnegative=True)"
   ]
  },
  {
   "cell_type": "code",
   "execution_count": 0,
   "metadata": {
    "application/vnd.databricks.v1+cell": {
     "cellMetadata": {
      "byteLimit": 2048000,
      "rowLimit": 10000
     },
     "inputWidgets": {},
     "nuid": "6a8bc213-4f18-4bd6-81d0-d5589b56a254",
     "showTitle": false,
     "title": ""
    }
   },
   "outputs": [
    {
     "output_type": "stream",
     "name": "stderr",
     "output_type": "stream",
     "text": [
      "2024/05/01 08:04:18 INFO mlflow.utils.autologging_utils: Created MLflow autologging run with ID '1e4abe3295ee4211a771ce7158dd1809', which will track hyperparameters, performance metrics, model artifacts, and lineage information for the current pyspark.ml workflow\n2024/05/01 08:04:19 WARNING mlflow.utils.autologging_utils: MLflow autologging encountered a warning: \"/databricks/python/lib/python3.11/site-packages/mlflow/types/utils.py:393: UserWarning: Hint: Inferred schema contains integer column(s). Integer columns in Python cannot represent missing values. If your input data contains missing values at inference time, it will be encoded as floats and will cause a schema enforcement error. The best way to avoid this problem is to infer the model schema based on a realistic data sample (training dataset) that includes missing values. Alternatively, you can declare integer columns as doubles (float64) whenever these columns may have missing values. See `Handling Integers With Missing Values <https://www.mlflow.org/docs/latest/models.html#handling-integers-with-missing-values>`_ for more details.\"\n2024/05/01 08:04:46 WARNING mlflow.pyspark.ml: Model ALS_4d73ee1d5f36 will not be autologged because it is not allowlisted or or because one or more of its nested models are not allowlisted. Call mlflow.spark.log_model() to explicitly log the model, or specify a custom allowlist via the spark.mlflow.pysparkml.autolog.logModelAllowlistFile Spark conf (see mlflow.pyspark.ml.autolog docs for more info).\n"
     ]
    }
   ],
   "source": [
    "# Train the model\n",
    "model = als.fit(training_data)"
   ]
  },
  {
   "cell_type": "code",
   "execution_count": 0,
   "metadata": {
    "application/vnd.databricks.v1+cell": {
     "cellMetadata": {
      "byteLimit": 2048000,
      "rowLimit": 10000
     },
     "inputWidgets": {},
     "nuid": "61ecb025-2570-411a-8f98-6033aea40b71",
     "showTitle": false,
     "title": ""
    }
   },
   "outputs": [],
   "source": [
    "# Make predictions on the testing data\n",
    "predictions = model.transform(testing_data).dropna()"
   ]
  },
  {
   "cell_type": "code",
   "execution_count": 0,
   "metadata": {
    "application/vnd.databricks.v1+cell": {
     "cellMetadata": {
      "byteLimit": 2048000,
      "rowLimit": 10000
     },
     "inputWidgets": {},
     "nuid": "c73ddf23-58a5-4b92-b1e2-4c1c057b6905",
     "showTitle": false,
     "title": ""
    }
   },
   "outputs": [
    {
     "output_type": "stream",
     "name": "stdout",
     "output_type": "stream",
     "text": [
      "+------+-------+------------+----------+\n|UserID|game_id|Hours_Played|prediction|\n+------+-------+------------+----------+\n|  5250|   3224|        13.6|  8.064185|\n| 76767|    728|        12.5|  20.73278|\n|298950|     39|        14.3|  8.317608|\n|298950|    183|         0.6| 2.5446677|\n|298950|    480|         0.4| 6.9807954|\n|298950|    679|         2.7| 2.2245302|\n|298950|    833|        10.2| 12.944589|\n|298950|    985|         0.5| 2.3128092|\n|298950|   1289|        27.0|   9.71048|\n|298950|   1326|         2.9|  4.260311|\n|298950|   1406|         0.9| 3.0342512|\n|298950|   1672|         0.3| 1.6095343|\n|298950|   2345|         1.6|  6.789106|\n|298950|   2435|         4.2| 6.0968165|\n|298950|   2441|        10.8|  8.193081|\n|298950|   2530|         2.3| 1.6198262|\n|298950|   2652|         7.9|  5.073391|\n|298950|   2713|         8.9| 6.2824025|\n|298950|   3066|         3.4| 6.4815726|\n|298950|   3744|         3.5|  5.794114|\n+------+-------+------------+----------+\nonly showing top 20 rows\n\n"
     ]
    }
   ],
   "source": [
    "#Display Predictions\n",
    "predictions.show()"
   ]
  },
  {
   "cell_type": "code",
   "execution_count": 0,
   "metadata": {
    "application/vnd.databricks.v1+cell": {
     "cellMetadata": {
      "byteLimit": 2048000,
      "rowLimit": 10000
     },
     "inputWidgets": {},
     "nuid": "df94779f-3700-4568-b026-5778da5fc549",
     "showTitle": false,
     "title": ""
    }
   },
   "outputs": [
    {
     "output_type": "stream",
     "name": "stdout",
     "output_type": "stream",
     "text": [
      "Root Mean Squared Error (RMSE) = 9.305377292475214\n"
     ]
    }
   ],
   "source": [
    "# Evaluate the model using RMSE\n",
    "evaluator = RegressionEvaluator(metricName=\"rmse\", labelCol=\"Hours_Played\", predictionCol=\"prediction\")\n",
    "rmse = evaluator.evaluate(predictions)\n",
    "print(\"Root Mean Squared Error (RMSE) = \" + str(rmse))"
   ]
  },
  {
   "cell_type": "code",
   "execution_count": 0,
   "metadata": {
    "application/vnd.databricks.v1+cell": {
     "cellMetadata": {
      "byteLimit": 2048000,
      "rowLimit": 10000
     },
     "inputWidgets": {},
     "nuid": "b068c222-598d-401e-8d05-7d59ec49c7f0",
     "showTitle": false,
     "title": ""
    }
   },
   "outputs": [],
   "source": [
    "# Evaluate the model using Cross-Validation\n",
    "\n",
    "# Define the ALS model\n",
    "als = ALS(maxIter=10, regParam=0.1, userCol=\"UserID\", itemCol=\"game_id\", ratingCol=\"Hours_Played\", seed=100, nonnegative=True)"
   ]
  },
  {
   "cell_type": "code",
   "execution_count": 0,
   "metadata": {
    "application/vnd.databricks.v1+cell": {
     "cellMetadata": {
      "byteLimit": 2048000,
      "rowLimit": 10000
     },
     "inputWidgets": {},
     "nuid": "b2a1c97c-2d3d-462f-b256-425618c56bb9",
     "showTitle": false,
     "title": ""
    }
   },
   "outputs": [],
   "source": [
    "# Define the parameter grid for cross-validation\n",
    "paramGrid = ParamGridBuilder() \\\n",
    "    .addGrid(als.rank, [10, 20, 30]) \\\n",
    "    .addGrid(als.regParam, [0.05, 0.1, 0.2]) \\\n",
    "    .build()"
   ]
  },
  {
   "cell_type": "code",
   "execution_count": 0,
   "metadata": {
    "application/vnd.databricks.v1+cell": {
     "cellMetadata": {
      "byteLimit": 2048000,
      "rowLimit": 10000
     },
     "inputWidgets": {},
     "nuid": "d08743ff-610b-4751-8510-97f6ad3ba781",
     "showTitle": false,
     "title": ""
    }
   },
   "outputs": [],
   "source": [
    "# Define the evaluator\n",
    "evaluator = RegressionEvaluator(metricName=\"rmse\", labelCol=\"Hours_Played\", predictionCol=\"prediction\")"
   ]
  },
  {
   "cell_type": "code",
   "execution_count": 0,
   "metadata": {
    "application/vnd.databricks.v1+cell": {
     "cellMetadata": {
      "byteLimit": 2048000,
      "rowLimit": 10000
     },
     "inputWidgets": {},
     "nuid": "9375a76d-b2b7-40e9-aa02-dc3197a7fd67",
     "showTitle": false,
     "title": ""
    }
   },
   "outputs": [],
   "source": [
    "# Create cross-validator\n",
    "crossval = CrossValidator(estimator=als,\n",
    "                          estimatorParamMaps=paramGrid,\n",
    "                          evaluator=evaluator,\n",
    "                          numFolds=5)"
   ]
  },
  {
   "cell_type": "code",
   "execution_count": 0,
   "metadata": {
    "application/vnd.databricks.v1+cell": {
     "cellMetadata": {
      "byteLimit": 2048000,
      "rowLimit": 10000
     },
     "inputWidgets": {},
     "nuid": "07642a08-5502-49e3-bd4f-361ef2c56e69",
     "showTitle": false,
     "title": ""
    }
   },
   "outputs": [
    {
     "output_type": "stream",
     "name": "stderr",
     "output_type": "stream",
     "text": [
      "2024/05/01 08:05:03 INFO mlflow.utils.autologging_utils: Created MLflow autologging run with ID '18bcc09cbd9e4c52997b7fb68be4ed35', which will track hyperparameters, performance metrics, model artifacts, and lineage information for the current pyspark.ml workflow\n"
     ]
    }
   ],
   "source": [
    "# Fit the cross-validator to the training data\n",
    "cvModel = crossval.fit(training_data)"
   ]
  },
  {
   "cell_type": "code",
   "execution_count": 0,
   "metadata": {
    "application/vnd.databricks.v1+cell": {
     "cellMetadata": {
      "byteLimit": 2048000,
      "rowLimit": 10000
     },
     "inputWidgets": {},
     "nuid": "6e8cd842-2ba9-422e-b71d-25b249e6fdc1",
     "showTitle": false,
     "title": ""
    }
   },
   "outputs": [],
   "source": [
    "# Make predictions on the testing data\n",
    "predictions_cv = cvModel.transform(testing_data).dropna()"
   ]
  },
  {
   "cell_type": "code",
   "execution_count": 0,
   "metadata": {
    "application/vnd.databricks.v1+cell": {
     "cellMetadata": {
      "byteLimit": 2048000,
      "rowLimit": 10000
     },
     "inputWidgets": {},
     "nuid": "2c45e82d-ddea-494d-8fe6-27d24ca49f28",
     "showTitle": false,
     "title": ""
    }
   },
   "outputs": [
    {
     "output_type": "stream",
     "name": "stdout",
     "output_type": "stream",
     "text": [
      "Root Mean Squared Error (RMSE) after cross-validation = 10.074126901607311\n"
     ]
    }
   ],
   "source": [
    "# Evaluate the model using RMSE\n",
    "rmse_cv = evaluator.evaluate(predictions_cv)\n",
    "print(\"Root Mean Squared Error (RMSE) after cross-validation = \" + str(rmse_cv))\n"
   ]
  },
  {
   "cell_type": "code",
   "execution_count": 0,
   "metadata": {
    "application/vnd.databricks.v1+cell": {
     "cellMetadata": {
      "byteLimit": 2048000,
      "rowLimit": 10000
     },
     "inputWidgets": {},
     "nuid": "37de50b9-825f-4065-a2ab-6a54c95022d2",
     "showTitle": false,
     "title": ""
    }
   },
   "outputs": [
    {
     "output_type": "stream",
     "name": "stdout",
     "output_type": "stream",
     "text": [
      "+--------+-------------------------------------------------------------------------------------------------------------------------------------------------------------------------------------------------------+\n|UserID  |recommendations                                                                                                                                                                                        |\n+--------+-------------------------------------------------------------------------------------------------------------------------------------------------------------------------------------------------------+\n|76767   |[{2941, 63.048588}, {1694, 51.1612}, {2369, 47.97747}, {4664, 46.659737}, {1692, 46.531}, {2734, 42.754284}, {358, 42.695145}, {1579, 42.420082}, {3849, 41.958847}, {973, 41.49283}]                  |\n|144736  |[{2728, 0.24549845}, {1700, 0.24230993}, {1435, 0.22100864}, {3598, 0.21024448}, {3004, 0.20415668}, {2700, 0.20039433}, {3880, 0.19973885}, {1664, 0.1951329}, {4163, 0.19374405}, {3771, 0.19295707}]|\n|229911  |[{1700, 11.678076}, {2941, 11.4579115}, {363, 10.609961}, {3875, 10.160819}, {2728, 10.153288}, {1435, 9.436006}, {2660, 9.350177}, {3859, 8.938515}, {973, 8.891388}, {1300, 8.882249}]               |\n|948368  |[{2728, 13.647112}, {1700, 13.384911}, {3598, 11.721466}, {3004, 11.22688}, {2700, 11.122045}, {1435, 11.049144}, {3771, 10.747141}, {4163, 10.433094}, {1664, 10.374963}, {3550, 10.306899}]          |\n|975449  |[{2941, 43.534603}, {2546, 37.40916}, {1306, 36.432484}, {2594, 35.861946}, {1889, 35.553417}, {3433, 34.73392}, {1621, 32.59281}, {4935, 32.089527}, {857, 30.481174}, {3574, 28.954391}]             |\n|2531540 |[{4935, 42.1625}, {2577, 35.864025}, {2667, 35.485268}, {2433, 32.985085}, {2632, 31.040192}, {1067, 30.483864}, {1710, 26.812714}, {4364, 25.936852}, {2399, 24.97661}, {4925, 24.949465}]            |\n|2753525 |[{2941, 45.97825}, {907, 39.820473}, {1861, 34.318626}, {2649, 33.43997}, {744, 33.18007}, {365, 33.077023}, {1763, 32.553764}, {988, 31.52119}, {1306, 30.65189}, {750, 30.11886}]                    |\n|3450426 |[{3874, 6.769873}, {359, 6.45815}, {3982, 5.6643834}, {736, 5.553334}, {3866, 5.4185157}, {312, 5.393394}, {2001, 5.3847647}, {2511, 5.2999215}, {3272, 5.213036}, {2435, 5.136561}]                   |\n|7923954 |[{2728, 0.73649544}, {1700, 0.72692984}, {1435, 0.6630259}, {3598, 0.63073343}, {3004, 0.6124701}, {2700, 0.601183}, {3880, 0.59921664}, {1664, 0.5853987}, {4163, 0.58123213}, {3771, 0.5788713}]     |\n|8259307 |[{3849, 8.212646}, {2941, 8.16324}, {1673, 5.741329}, {3142, 5.6859775}, {1209, 5.6701155}, {3859, 5.440678}, {2577, 5.4018455}, {4808, 5.369754}, {2660, 5.133553}, {3118, 4.954075}]                 |\n|8567888 |[{2941, 4.000499}, {2734, 2.896635}, {2660, 2.7581844}, {3118, 2.2050395}, {2369, 2.1794925}, {3875, 2.1289358}, {973, 2.0561807}, {1694, 2.023913}, {5079, 1.9965415}, {3859, 1.8967646}]             |\n|8585433 |[{2941, 63.034897}, {2577, 50.685345}, {4935, 45.49505}, {3849, 39.464317}, {3142, 38.317352}, {2667, 38.272778}, {3118, 37.883915}, {2433, 37.4609}, {1761, 37.371635}, {4657, 36.80527}]             |\n|8784496 |[{1861, 37.418785}, {1621, 30.670473}, {907, 28.41193}, {3433, 28.293839}, {3849, 28.19721}, {1306, 27.478842}, {456, 27.463364}, {4664, 26.75769}, {5078, 26.69965}, {6, 26.25964}]                   |\n|8795607 |[{2941, 73.318375}, {2734, 57.365906}, {3621, 51.777332}, {4765, 47.360825}, {2152, 44.96527}, {1679, 42.92175}, {1694, 42.546097}, {2536, 42.498314}, {3294, 41.137848}, {2660, 40.362873}]           |\n|10595342|[{3874, 7.996221}, {2001, 7.8601637}, {6, 7.717834}, {312, 7.620044}, {2347, 7.2184315}, {3982, 7.04602}, {3574, 6.67491}, {736, 6.6483507}, {3272, 6.6216006}, {3866, 6.5883026}]                     |\n|10599862|[{5078, 52.218624}, {1694, 51.48054}, {1579, 49.69565}, {4664, 48.93309}, {1692, 48.23993}, {907, 47.472164}, {538, 46.336517}, {734, 46.25967}, {3772, 41.8981}, {1067, 41.460873}]                   |\n|11807754|[{363, 39.595474}, {2590, 39.218536}, {2941, 37.96767}, {2660, 37.802948}, {3796, 35.61117}, {2723, 34.631195}, {2734, 34.006493}, {3950, 32.404266}, {631, 31.670876}, {4708, 31.579136}]             |\n|11973378|[{2941, 2.461845}, {2734, 1.7825447}, {2660, 1.6973445}, {3118, 1.3569474}, {2369, 1.3412262}, {3875, 1.3101144}, {973, 1.2653421}, {1694, 1.245485}, {5079, 1.228641}, {3859, 1.1672399}]             |\n|15095770|[{2941, 6.805631}, {3849, 5.6483827}, {2734, 4.5918126}, {4808, 4.4951825}, {2660, 4.43144}, {1861, 4.138359}, {1209, 4.1076612}, {3118, 4.084176}, {1673, 4.0585394}, {3859, 4.003636}]               |\n|15196746|[{2941, 132.2553}, {2734, 100.497375}, {2152, 97.8957}, {2649, 97.62555}, {3621, 94.09155}, {1694, 90.534355}, {4765, 84.84756}, {361, 81.134705}, {1679, 79.276306}, {1765, 78.75111}]                |\n+--------+-------------------------------------------------------------------------------------------------------------------------------------------------------------------------------------------------------+\nonly showing top 20 rows\n\n"
     ]
    }
   ],
   "source": [
    "# Generate top n game recommendations for each user\n",
    "userRecs = model.recommendForAllUsers(10)\n",
    "userRecs.show(truncate=False)"
   ]
  },
  {
   "cell_type": "code",
   "execution_count": 0,
   "metadata": {
    "application/vnd.databricks.v1+cell": {
     "cellMetadata": {
      "byteLimit": 2048000,
      "rowLimit": 10000
     },
     "inputWidgets": {},
     "nuid": "17a296fd-11b5-41b2-a708-4b09ee1b8797",
     "showTitle": false,
     "title": ""
    }
   },
   "outputs": [
    {
     "output_type": "stream",
     "name": "stdout",
     "output_type": "stream",
     "text": [
      "+-------+--------+---------------------------------+\n|game_id|rating  |game_name                        |\n+-------+--------+---------------------------------+\n|736    |26.21401|Call of Duty Ghosts - Multiplayer|\n|736    |26.21401|Call of Duty Ghosts - Multiplayer|\n|736    |26.21401|Call of Duty Ghosts - Multiplayer|\n|736    |26.21401|Call of Duty Ghosts - Multiplayer|\n|736    |26.21401|Call of Duty Ghosts - Multiplayer|\n|736    |26.21401|Call of Duty Ghosts - Multiplayer|\n|736    |26.21401|Call of Duty Ghosts - Multiplayer|\n|736    |26.21401|Call of Duty Ghosts - Multiplayer|\n|736    |26.21401|Call of Duty Ghosts - Multiplayer|\n|736    |26.21401|Call of Duty Ghosts - Multiplayer|\n|736    |26.21401|Call of Duty Ghosts - Multiplayer|\n|736    |26.21401|Call of Duty Ghosts - Multiplayer|\n|736    |26.21401|Call of Duty Ghosts - Multiplayer|\n|736    |26.21401|Call of Duty Ghosts - Multiplayer|\n|736    |26.21401|Call of Duty Ghosts - Multiplayer|\n|736    |26.21401|Call of Duty Ghosts - Multiplayer|\n|736    |26.21401|Call of Duty Ghosts - Multiplayer|\n|736    |26.21401|Call of Duty Ghosts - Multiplayer|\n|736    |26.21401|Call of Duty Ghosts - Multiplayer|\n|736    |26.21401|Call of Duty Ghosts - Multiplayer|\n+-------+--------+---------------------------------+\nonly showing top 20 rows\n\n"
     ]
    }
   ],
   "source": [
    "# Get recommendations for user with user_Id 1\n",
    "user_id = 151603712\n",
    "user_recommendations = userRecs.where(userRecs.UserID == user_id) \\\n",
    "                               .select(\"recommendations\") \\\n",
    "                               .withColumn(\"recommendations\", explode(\"recommendations\")) \\\n",
    "                               .select(\"recommendations.game_id\", \"recommendations.rating\") \\\n",
    "                               .join(game_rec, [\"game_id\"]) \\\n",
    "                               .show(truncate=False)"
   ]
  },
  {
   "cell_type": "code",
   "execution_count": 0,
   "metadata": {
    "application/vnd.databricks.v1+cell": {
     "cellMetadata": {
      "byteLimit": 2048000,
      "rowLimit": 10000
     },
     "inputWidgets": {},
     "nuid": "882891d7-f060-46dc-ae8f-0945e1cb3a07",
     "showTitle": false,
     "title": ""
    }
   },
   "outputs": [
    {
     "output_type": "stream",
     "name": "stderr",
     "output_type": "stream",
     "text": [
      "2024/05/01 07:11:27 INFO mlflow.utils.autologging_utils: Created MLflow autologging run with ID '6b52839f74674253a6add4385f16e747', which will track hyperparameters, performance metrics, model artifacts, and lineage information for the current pyspark.ml workflow\n2024/05/01 07:11:42 WARNING mlflow.pyspark.ml: Model ALS_f8ab15cd63ee will not be autologged because it is not allowlisted or or because one or more of its nested models are not allowlisted. Call mlflow.spark.log_model() to explicitly log the model, or specify a custom allowlist via the spark.mlflow.pysparkml.autolog.logModelAllowlistFile Spark conf (see mlflow.pyspark.ml.autolog docs for more info).\n"
     ]
    },
    {
     "output_type": "stream",
     "name": "stdout",
     "output_type": "stream",
     "text": [
      "RMSE for maxIter=5, regParam=0.001: 1.155141943572359\n"
     ]
    },
    {
     "output_type": "stream",
     "name": "stderr",
     "output_type": "stream",
     "text": [
      "2024/05/01 07:11:50 INFO mlflow.utils.autologging_utils: Created MLflow autologging run with ID '2605e76ddf1f4b74880f720654035dda', which will track hyperparameters, performance metrics, model artifacts, and lineage information for the current pyspark.ml workflow\n2024/05/01 07:12:06 WARNING mlflow.pyspark.ml: Model ALS_c5d1d736b646 will not be autologged because it is not allowlisted or or because one or more of its nested models are not allowlisted. Call mlflow.spark.log_model() to explicitly log the model, or specify a custom allowlist via the spark.mlflow.pysparkml.autolog.logModelAllowlistFile Spark conf (see mlflow.pyspark.ml.autolog docs for more info).\n"
     ]
    },
    {
     "output_type": "stream",
     "name": "stdout",
     "output_type": "stream",
     "text": [
      "RMSE for maxIter=5, regParam=0.005: 1.0827336355763257\n"
     ]
    },
    {
     "output_type": "stream",
     "name": "stderr",
     "output_type": "stream",
     "text": [
      "2024/05/01 07:12:14 INFO mlflow.utils.autologging_utils: Created MLflow autologging run with ID '0c959415d2014619883f4352a26145aa', which will track hyperparameters, performance metrics, model artifacts, and lineage information for the current pyspark.ml workflow\n2024/05/01 07:12:30 WARNING mlflow.pyspark.ml: Model ALS_a3e4c5ca55c9 will not be autologged because it is not allowlisted or or because one or more of its nested models are not allowlisted. Call mlflow.spark.log_model() to explicitly log the model, or specify a custom allowlist via the spark.mlflow.pysparkml.autolog.logModelAllowlistFile Spark conf (see mlflow.pyspark.ml.autolog docs for more info).\n"
     ]
    },
    {
     "output_type": "stream",
     "name": "stdout",
     "output_type": "stream",
     "text": [
      "RMSE for maxIter=5, regParam=0.01: 1.0559850958487755\n"
     ]
    },
    {
     "output_type": "stream",
     "name": "stderr",
     "output_type": "stream",
     "text": [
      "2024/05/01 07:12:38 INFO mlflow.utils.autologging_utils: Created MLflow autologging run with ID '9171a8fcb8b34cb98d25452088437d9a', which will track hyperparameters, performance metrics, model artifacts, and lineage information for the current pyspark.ml workflow\n2024/05/01 07:12:55 WARNING mlflow.pyspark.ml: Model ALS_f3eac9adc464 will not be autologged because it is not allowlisted or or because one or more of its nested models are not allowlisted. Call mlflow.spark.log_model() to explicitly log the model, or specify a custom allowlist via the spark.mlflow.pysparkml.autolog.logModelAllowlistFile Spark conf (see mlflow.pyspark.ml.autolog docs for more info).\n"
     ]
    },
    {
     "output_type": "stream",
     "name": "stdout",
     "output_type": "stream",
     "text": [
      "RMSE for maxIter=5, regParam=0.05: 1.05022630921741\n"
     ]
    },
    {
     "output_type": "stream",
     "name": "stderr",
     "output_type": "stream",
     "text": [
      "2024/05/01 07:13:04 INFO mlflow.utils.autologging_utils: Created MLflow autologging run with ID 'b370baba6e634db6ab30886e30b5d189', which will track hyperparameters, performance metrics, model artifacts, and lineage information for the current pyspark.ml workflow\n2024/05/01 07:13:21 WARNING mlflow.pyspark.ml: Model ALS_009e6de14ced will not be autologged because it is not allowlisted or or because one or more of its nested models are not allowlisted. Call mlflow.spark.log_model() to explicitly log the model, or specify a custom allowlist via the spark.mlflow.pysparkml.autolog.logModelAllowlistFile Spark conf (see mlflow.pyspark.ml.autolog docs for more info).\n"
     ]
    },
    {
     "output_type": "stream",
     "name": "stdout",
     "output_type": "stream",
     "text": [
      "RMSE for maxIter=5, regParam=0.1: 1.0652647298695588\n"
     ]
    },
    {
     "output_type": "stream",
     "name": "stderr",
     "output_type": "stream",
     "text": [
      "2024/05/01 07:13:29 INFO mlflow.utils.autologging_utils: Created MLflow autologging run with ID '3fb98d39be4442bb80e56c272e5c96ae', which will track hyperparameters, performance metrics, model artifacts, and lineage information for the current pyspark.ml workflow\n2024/05/01 07:13:58 WARNING mlflow.pyspark.ml: Model ALS_567473319745 will not be autologged because it is not allowlisted or or because one or more of its nested models are not allowlisted. Call mlflow.spark.log_model() to explicitly log the model, or specify a custom allowlist via the spark.mlflow.pysparkml.autolog.logModelAllowlistFile Spark conf (see mlflow.pyspark.ml.autolog docs for more info).\n"
     ]
    },
    {
     "output_type": "stream",
     "name": "stdout",
     "output_type": "stream",
     "text": [
      "RMSE for maxIter=10, regParam=0.001: 0.8181112192283247\n"
     ]
    },
    {
     "output_type": "stream",
     "name": "stderr",
     "output_type": "stream",
     "text": [
      "2024/05/01 07:14:08 INFO mlflow.utils.autologging_utils: Created MLflow autologging run with ID '876c7c94ebe34943b7a528eed58cfd44', which will track hyperparameters, performance metrics, model artifacts, and lineage information for the current pyspark.ml workflow\n2024/05/01 07:14:37 WARNING mlflow.pyspark.ml: Model ALS_e26f60067bf6 will not be autologged because it is not allowlisted or or because one or more of its nested models are not allowlisted. Call mlflow.spark.log_model() to explicitly log the model, or specify a custom allowlist via the spark.mlflow.pysparkml.autolog.logModelAllowlistFile Spark conf (see mlflow.pyspark.ml.autolog docs for more info).\n"
     ]
    },
    {
     "output_type": "stream",
     "name": "stdout",
     "output_type": "stream",
     "text": [
      "RMSE for maxIter=10, regParam=0.005: 0.795570456950114\n"
     ]
    },
    {
     "output_type": "stream",
     "name": "stderr",
     "output_type": "stream",
     "text": [
      "2024/05/01 07:14:46 INFO mlflow.utils.autologging_utils: Created MLflow autologging run with ID '3a46a08a92b94dcbab2b49226308b1a7', which will track hyperparameters, performance metrics, model artifacts, and lineage information for the current pyspark.ml workflow\n2024/05/01 07:15:15 WARNING mlflow.pyspark.ml: Model ALS_c7faa501a5ab will not be autologged because it is not allowlisted or or because one or more of its nested models are not allowlisted. Call mlflow.spark.log_model() to explicitly log the model, or specify a custom allowlist via the spark.mlflow.pysparkml.autolog.logModelAllowlistFile Spark conf (see mlflow.pyspark.ml.autolog docs for more info).\n"
     ]
    },
    {
     "output_type": "stream",
     "name": "stdout",
     "output_type": "stream",
     "text": [
      "RMSE for maxIter=10, regParam=0.01: 0.7633439375030845\n"
     ]
    },
    {
     "output_type": "stream",
     "name": "stderr",
     "output_type": "stream",
     "text": [
      "2024/05/01 07:15:25 INFO mlflow.utils.autologging_utils: Created MLflow autologging run with ID 'cc1ed58e11dc4993b676f25ad6255f4d', which will track hyperparameters, performance metrics, model artifacts, and lineage information for the current pyspark.ml workflow\n2024/05/01 07:15:54 WARNING mlflow.pyspark.ml: Model ALS_9bd82db94b6d will not be autologged because it is not allowlisted or or because one or more of its nested models are not allowlisted. Call mlflow.spark.log_model() to explicitly log the model, or specify a custom allowlist via the spark.mlflow.pysparkml.autolog.logModelAllowlistFile Spark conf (see mlflow.pyspark.ml.autolog docs for more info).\n"
     ]
    },
    {
     "output_type": "stream",
     "name": "stdout",
     "output_type": "stream",
     "text": [
      "RMSE for maxIter=10, regParam=0.05: 0.7464905628019093\n"
     ]
    },
    {
     "output_type": "stream",
     "name": "stderr",
     "output_type": "stream",
     "text": [
      "2024/05/01 07:16:05 INFO mlflow.utils.autologging_utils: Created MLflow autologging run with ID '3796b254e3694475a0fd1c0c30c41752', which will track hyperparameters, performance metrics, model artifacts, and lineage information for the current pyspark.ml workflow\n2024/05/01 07:16:33 WARNING mlflow.pyspark.ml: Model ALS_b09d79f4ab7b will not be autologged because it is not allowlisted or or because one or more of its nested models are not allowlisted. Call mlflow.spark.log_model() to explicitly log the model, or specify a custom allowlist via the spark.mlflow.pysparkml.autolog.logModelAllowlistFile Spark conf (see mlflow.pyspark.ml.autolog docs for more info).\n"
     ]
    },
    {
     "output_type": "stream",
     "name": "stdout",
     "output_type": "stream",
     "text": [
      "RMSE for maxIter=10, regParam=0.1: 0.7918807675436655\n"
     ]
    },
    {
     "output_type": "stream",
     "name": "stderr",
     "output_type": "stream",
     "text": [
      "2024/05/01 07:16:43 INFO mlflow.utils.autologging_utils: Created MLflow autologging run with ID 'a7c1481225054dfc8f6d8f43aeb915fe', which will track hyperparameters, performance metrics, model artifacts, and lineage information for the current pyspark.ml workflow\n2024/05/01 07:17:35 WARNING mlflow.pyspark.ml: Model ALS_ff9a48596db4 will not be autologged because it is not allowlisted or or because one or more of its nested models are not allowlisted. Call mlflow.spark.log_model() to explicitly log the model, or specify a custom allowlist via the spark.mlflow.pysparkml.autolog.logModelAllowlistFile Spark conf (see mlflow.pyspark.ml.autolog docs for more info).\n"
     ]
    },
    {
     "output_type": "stream",
     "name": "stdout",
     "output_type": "stream",
     "text": [
      "RMSE for maxIter=15, regParam=0.001: 0.6797514058732762\n"
     ]
    },
    {
     "output_type": "stream",
     "name": "stderr",
     "output_type": "stream",
     "text": [
      "2024/05/01 07:17:49 INFO mlflow.utils.autologging_utils: Created MLflow autologging run with ID 'a34cd5681fc947f1b67cb50f57835770', which will track hyperparameters, performance metrics, model artifacts, and lineage information for the current pyspark.ml workflow\n2024/05/01 07:18:41 WARNING mlflow.pyspark.ml: Model ALS_8c72f38e7b6c will not be autologged because it is not allowlisted or or because one or more of its nested models are not allowlisted. Call mlflow.spark.log_model() to explicitly log the model, or specify a custom allowlist via the spark.mlflow.pysparkml.autolog.logModelAllowlistFile Spark conf (see mlflow.pyspark.ml.autolog docs for more info).\n"
     ]
    },
    {
     "output_type": "stream",
     "name": "stdout",
     "output_type": "stream",
     "text": [
      "RMSE for maxIter=15, regParam=0.005: 0.6674627759036287\n"
     ]
    },
    {
     "output_type": "stream",
     "name": "stderr",
     "output_type": "stream",
     "text": [
      "2024/05/01 07:18:53 INFO mlflow.utils.autologging_utils: Created MLflow autologging run with ID '8c0adb9e35104f96939e8dc9a87d14f6', which will track hyperparameters, performance metrics, model artifacts, and lineage information for the current pyspark.ml workflow\n2024/05/01 07:19:45 WARNING mlflow.pyspark.ml: Model ALS_cc4b330e3a98 will not be autologged because it is not allowlisted or or because one or more of its nested models are not allowlisted. Call mlflow.spark.log_model() to explicitly log the model, or specify a custom allowlist via the spark.mlflow.pysparkml.autolog.logModelAllowlistFile Spark conf (see mlflow.pyspark.ml.autolog docs for more info).\n"
     ]
    },
    {
     "output_type": "stream",
     "name": "stdout",
     "output_type": "stream",
     "text": [
      "RMSE for maxIter=15, regParam=0.01: 0.6316299617513097\n"
     ]
    },
    {
     "output_type": "stream",
     "name": "stderr",
     "output_type": "stream",
     "text": [
      "2024/05/01 07:19:57 INFO mlflow.utils.autologging_utils: Created MLflow autologging run with ID 'dabb7e0640764b4e98d3f13d39707835', which will track hyperparameters, performance metrics, model artifacts, and lineage information for the current pyspark.ml workflow\n2024/05/01 07:20:51 WARNING mlflow.pyspark.ml: Model ALS_75df01439c63 will not be autologged because it is not allowlisted or or because one or more of its nested models are not allowlisted. Call mlflow.spark.log_model() to explicitly log the model, or specify a custom allowlist via the spark.mlflow.pysparkml.autolog.logModelAllowlistFile Spark conf (see mlflow.pyspark.ml.autolog docs for more info).\n"
     ]
    },
    {
     "output_type": "stream",
     "name": "stdout",
     "output_type": "stream",
     "text": [
      "RMSE for maxIter=15, regParam=0.05: 0.6259637470015738\n"
     ]
    },
    {
     "output_type": "stream",
     "name": "stderr",
     "output_type": "stream",
     "text": [
      "2024/05/01 07:21:05 INFO mlflow.utils.autologging_utils: Created MLflow autologging run with ID '3fb2b756b3b24398ae95b7918b71d2b4', which will track hyperparameters, performance metrics, model artifacts, and lineage information for the current pyspark.ml workflow\n2024/05/01 07:21:56 WARNING mlflow.pyspark.ml: Model ALS_3c2fa7f0f2b3 will not be autologged because it is not allowlisted or or because one or more of its nested models are not allowlisted. Call mlflow.spark.log_model() to explicitly log the model, or specify a custom allowlist via the spark.mlflow.pysparkml.autolog.logModelAllowlistFile Spark conf (see mlflow.pyspark.ml.autolog docs for more info).\n"
     ]
    },
    {
     "output_type": "stream",
     "name": "stdout",
     "output_type": "stream",
     "text": [
      "RMSE for maxIter=15, regParam=0.1: 0.6845810997896209\nBest RMSE: 0.6259637470015738\nBest Parameters: (15, 0.05)\n"
     ]
    }
   ],
   "source": [
    "# Parameter Tuning\n",
    "import itertools\n",
    "\n",
    "param_grid = {'maxIter': [5, 10, 15], 'regParam': [0.001, 0.005, 0.01, 0.05, 0.1]} \n",
    "best_rmse = float('inf')\n",
    "best_params = None\n",
    "\n",
    "for maxIter, regParam in itertools.product(param_grid['maxIter'], param_grid['regParam']):\n",
    "    als = ALS(maxIter=maxIter, regParam=regParam, userCol='UserID', itemCol='game_id', ratingCol='Hours_Played', seed=100, nonnegative=True)\n",
    "    model = als.fit(testing_data)\n",
    "    predictions = model.transform(testing_data).dropna()\n",
    "        \n",
    "    # Evaluate model using RegressionEvaluator\n",
    "    evaluator = RegressionEvaluator(metricName=\"rmse\", labelCol=\"Hours_Played\", predictionCol=\"prediction\")\n",
    "    rmse = evaluator.evaluate(predictions)\n",
    "    print(\"RMSE for maxIter={}, regParam={}: {}\".format(maxIter, regParam, rmse))\n",
    "        \n",
    "    # Update best RMSE and parameters if current RMSE is better\n",
    "    if rmse < best_rmse:\n",
    "        best_rmse = rmse\n",
    "        best_params = (maxIter, regParam)\n",
    "\n",
    "print(\"Best RMSE:\", best_rmse)\n",
    "print(\"Best Parameters:\", best_params)\n"
   ]
  },
  {
   "cell_type": "code",
   "execution_count": 0,
   "metadata": {
    "application/vnd.databricks.v1+cell": {
     "cellMetadata": {
      "byteLimit": 2048000,
      "rowLimit": 10000
     },
     "inputWidgets": {},
     "nuid": "3964a164-a052-4417-a7ea-4ec6508fc59f",
     "showTitle": false,
     "title": ""
    }
   },
   "outputs": [
    {
     "output_type": "stream",
     "name": "stderr",
     "output_type": "stream",
     "text": [
      "2024/05/01 07:22:10 INFO mlflow.utils.autologging_utils: Created MLflow autologging run with ID 'acf8cb77931f407dabcfd118ffdf5666', which will track hyperparameters, performance metrics, model artifacts, and lineage information for the current pyspark.ml workflow\n2024/05/01 07:22:25 WARNING mlflow.pyspark.ml: Model ALS_ca99ac6cc820 will not be autologged because it is not allowlisted or or because one or more of its nested models are not allowlisted. Call mlflow.spark.log_model() to explicitly log the model, or specify a custom allowlist via the spark.mlflow.pysparkml.autolog.logModelAllowlistFile Spark conf (see mlflow.pyspark.ml.autolog docs for more info).\n"
     ]
    },
    {
     "output_type": "stream",
     "name": "stdout",
     "output_type": "stream",
     "text": [
      "RMSE for maxIter=5, regParam=0.001: 1.155141943572359\n"
     ]
    },
    {
     "output_type": "stream",
     "name": "stderr",
     "output_type": "stream",
     "text": [
      "2024/05/01 07:22:32 INFO mlflow.utils.autologging_utils: Created MLflow autologging run with ID '5ce8c67f4e2d421f97fb3e6e45873dae', which will track hyperparameters, performance metrics, model artifacts, and lineage information for the current pyspark.ml workflow\n2024/05/01 07:22:48 WARNING mlflow.pyspark.ml: Model ALS_51f0790af31c will not be autologged because it is not allowlisted or or because one or more of its nested models are not allowlisted. Call mlflow.spark.log_model() to explicitly log the model, or specify a custom allowlist via the spark.mlflow.pysparkml.autolog.logModelAllowlistFile Spark conf (see mlflow.pyspark.ml.autolog docs for more info).\n"
     ]
    },
    {
     "output_type": "stream",
     "name": "stdout",
     "output_type": "stream",
     "text": [
      "RMSE for maxIter=5, regParam=0.005: 1.0827336355763257\n"
     ]
    },
    {
     "output_type": "stream",
     "name": "stderr",
     "output_type": "stream",
     "text": [
      "2024/05/01 07:22:55 INFO mlflow.utils.autologging_utils: Created MLflow autologging run with ID '1e3337c71a214837ad42a62cb9852d0b', which will track hyperparameters, performance metrics, model artifacts, and lineage information for the current pyspark.ml workflow\n2024/05/01 07:23:11 WARNING mlflow.pyspark.ml: Model ALS_1c9117bc9339 will not be autologged because it is not allowlisted or or because one or more of its nested models are not allowlisted. Call mlflow.spark.log_model() to explicitly log the model, or specify a custom allowlist via the spark.mlflow.pysparkml.autolog.logModelAllowlistFile Spark conf (see mlflow.pyspark.ml.autolog docs for more info).\n"
     ]
    },
    {
     "output_type": "stream",
     "name": "stdout",
     "output_type": "stream",
     "text": [
      "RMSE for maxIter=5, regParam=0.01: 1.0559850958487755\n"
     ]
    },
    {
     "output_type": "stream",
     "name": "stderr",
     "output_type": "stream",
     "text": [
      "2024/05/01 07:23:19 INFO mlflow.utils.autologging_utils: Created MLflow autologging run with ID '5e6a67f6a4024cfd86583b63c838f6ae', which will track hyperparameters, performance metrics, model artifacts, and lineage information for the current pyspark.ml workflow\n2024/05/01 07:23:34 WARNING mlflow.pyspark.ml: Model ALS_a4b84b01edcc will not be autologged because it is not allowlisted or or because one or more of its nested models are not allowlisted. Call mlflow.spark.log_model() to explicitly log the model, or specify a custom allowlist via the spark.mlflow.pysparkml.autolog.logModelAllowlistFile Spark conf (see mlflow.pyspark.ml.autolog docs for more info).\n"
     ]
    },
    {
     "output_type": "stream",
     "name": "stdout",
     "output_type": "stream",
     "text": [
      "RMSE for maxIter=5, regParam=0.05: 1.05022630921741\n"
     ]
    },
    {
     "output_type": "stream",
     "name": "stderr",
     "output_type": "stream",
     "text": [
      "2024/05/01 07:23:42 INFO mlflow.utils.autologging_utils: Created MLflow autologging run with ID '32a96c76acba4347bba805eb226ca5ef', which will track hyperparameters, performance metrics, model artifacts, and lineage information for the current pyspark.ml workflow\n2024/05/01 07:23:57 WARNING mlflow.pyspark.ml: Model ALS_55c4ca9d032e will not be autologged because it is not allowlisted or or because one or more of its nested models are not allowlisted. Call mlflow.spark.log_model() to explicitly log the model, or specify a custom allowlist via the spark.mlflow.pysparkml.autolog.logModelAllowlistFile Spark conf (see mlflow.pyspark.ml.autolog docs for more info).\n"
     ]
    },
    {
     "output_type": "stream",
     "name": "stdout",
     "output_type": "stream",
     "text": [
      "RMSE for maxIter=5, regParam=0.1: 1.0652647298695588\n"
     ]
    },
    {
     "output_type": "stream",
     "name": "stderr",
     "output_type": "stream",
     "text": [
      "2024/05/01 07:24:06 INFO mlflow.utils.autologging_utils: Created MLflow autologging run with ID 'debf4bb8547e47f6bcc3cd604048e63e', which will track hyperparameters, performance metrics, model artifacts, and lineage information for the current pyspark.ml workflow\n2024/05/01 07:24:34 WARNING mlflow.pyspark.ml: Model ALS_663ab5970658 will not be autologged because it is not allowlisted or or because one or more of its nested models are not allowlisted. Call mlflow.spark.log_model() to explicitly log the model, or specify a custom allowlist via the spark.mlflow.pysparkml.autolog.logModelAllowlistFile Spark conf (see mlflow.pyspark.ml.autolog docs for more info).\n"
     ]
    },
    {
     "output_type": "stream",
     "name": "stdout",
     "output_type": "stream",
     "text": [
      "RMSE for maxIter=10, regParam=0.001: 0.8181112192283247\n"
     ]
    },
    {
     "output_type": "stream",
     "name": "stderr",
     "output_type": "stream",
     "text": [
      "2024/05/01 07:24:44 INFO mlflow.utils.autologging_utils: Created MLflow autologging run with ID '29af4c30249c4124a7df21affcd60a09', which will track hyperparameters, performance metrics, model artifacts, and lineage information for the current pyspark.ml workflow\n2024/05/01 07:25:12 WARNING mlflow.pyspark.ml: Model ALS_e841003274b0 will not be autologged because it is not allowlisted or or because one or more of its nested models are not allowlisted. Call mlflow.spark.log_model() to explicitly log the model, or specify a custom allowlist via the spark.mlflow.pysparkml.autolog.logModelAllowlistFile Spark conf (see mlflow.pyspark.ml.autolog docs for more info).\n"
     ]
    },
    {
     "output_type": "stream",
     "name": "stdout",
     "output_type": "stream",
     "text": [
      "RMSE for maxIter=10, regParam=0.005: 0.795570456950114\n"
     ]
    },
    {
     "output_type": "stream",
     "name": "stderr",
     "output_type": "stream",
     "text": [
      "2024/05/01 07:25:22 INFO mlflow.utils.autologging_utils: Created MLflow autologging run with ID '61eb6c88c12b4127adc4b88975ab4c6b', which will track hyperparameters, performance metrics, model artifacts, and lineage information for the current pyspark.ml workflow\n2024/05/01 07:25:50 WARNING mlflow.pyspark.ml: Model ALS_adfcc41192c3 will not be autologged because it is not allowlisted or or because one or more of its nested models are not allowlisted. Call mlflow.spark.log_model() to explicitly log the model, or specify a custom allowlist via the spark.mlflow.pysparkml.autolog.logModelAllowlistFile Spark conf (see mlflow.pyspark.ml.autolog docs for more info).\n"
     ]
    },
    {
     "output_type": "stream",
     "name": "stdout",
     "output_type": "stream",
     "text": [
      "RMSE for maxIter=10, regParam=0.01: 0.7633439375030845\n"
     ]
    },
    {
     "output_type": "stream",
     "name": "stderr",
     "output_type": "stream",
     "text": [
      "2024/05/01 07:26:00 INFO mlflow.utils.autologging_utils: Created MLflow autologging run with ID 'f6f511a584da4450a3b77528da194a8a', which will track hyperparameters, performance metrics, model artifacts, and lineage information for the current pyspark.ml workflow\n2024/05/01 07:26:29 WARNING mlflow.pyspark.ml: Model ALS_1c60acb46c6f will not be autologged because it is not allowlisted or or because one or more of its nested models are not allowlisted. Call mlflow.spark.log_model() to explicitly log the model, or specify a custom allowlist via the spark.mlflow.pysparkml.autolog.logModelAllowlistFile Spark conf (see mlflow.pyspark.ml.autolog docs for more info).\n"
     ]
    },
    {
     "output_type": "stream",
     "name": "stdout",
     "output_type": "stream",
     "text": [
      "RMSE for maxIter=10, regParam=0.05: 0.7464905628019093\n"
     ]
    },
    {
     "output_type": "stream",
     "name": "stderr",
     "output_type": "stream",
     "text": [
      "2024/05/01 07:26:38 INFO mlflow.utils.autologging_utils: Created MLflow autologging run with ID '09f94665d98a4c87a0a6ae7135183f5c', which will track hyperparameters, performance metrics, model artifacts, and lineage information for the current pyspark.ml workflow\n2024/05/01 07:27:07 WARNING mlflow.pyspark.ml: Model ALS_43093948be99 will not be autologged because it is not allowlisted or or because one or more of its nested models are not allowlisted. Call mlflow.spark.log_model() to explicitly log the model, or specify a custom allowlist via the spark.mlflow.pysparkml.autolog.logModelAllowlistFile Spark conf (see mlflow.pyspark.ml.autolog docs for more info).\n"
     ]
    },
    {
     "output_type": "stream",
     "name": "stdout",
     "output_type": "stream",
     "text": [
      "RMSE for maxIter=10, regParam=0.1: 0.7918807675436655\n"
     ]
    },
    {
     "output_type": "stream",
     "name": "stderr",
     "output_type": "stream",
     "text": [
      "2024/05/01 07:27:17 INFO mlflow.utils.autologging_utils: Created MLflow autologging run with ID 'f5bd431d50a34144b5638d54ec319d72', which will track hyperparameters, performance metrics, model artifacts, and lineage information for the current pyspark.ml workflow\n2024/05/01 07:28:09 WARNING mlflow.pyspark.ml: Model ALS_325a40cdfe0c will not be autologged because it is not allowlisted or or because one or more of its nested models are not allowlisted. Call mlflow.spark.log_model() to explicitly log the model, or specify a custom allowlist via the spark.mlflow.pysparkml.autolog.logModelAllowlistFile Spark conf (see mlflow.pyspark.ml.autolog docs for more info).\n"
     ]
    },
    {
     "output_type": "stream",
     "name": "stdout",
     "output_type": "stream",
     "text": [
      "RMSE for maxIter=15, regParam=0.001: 0.6797514058732762\n"
     ]
    },
    {
     "output_type": "stream",
     "name": "stderr",
     "output_type": "stream",
     "text": [
      "2024/05/01 07:28:21 INFO mlflow.utils.autologging_utils: Created MLflow autologging run with ID '8e48e7c6417b4aaa9ad7077d6019798a', which will track hyperparameters, performance metrics, model artifacts, and lineage information for the current pyspark.ml workflow\n2024/05/01 07:29:13 WARNING mlflow.pyspark.ml: Model ALS_e2959a9d10e4 will not be autologged because it is not allowlisted or or because one or more of its nested models are not allowlisted. Call mlflow.spark.log_model() to explicitly log the model, or specify a custom allowlist via the spark.mlflow.pysparkml.autolog.logModelAllowlistFile Spark conf (see mlflow.pyspark.ml.autolog docs for more info).\n"
     ]
    },
    {
     "output_type": "stream",
     "name": "stdout",
     "output_type": "stream",
     "text": [
      "RMSE for maxIter=15, regParam=0.005: 0.6674627759036287\n"
     ]
    },
    {
     "output_type": "stream",
     "name": "stderr",
     "output_type": "stream",
     "text": [
      "2024/05/01 07:29:25 INFO mlflow.utils.autologging_utils: Created MLflow autologging run with ID '4409a98b45a5454898924ea018044500', which will track hyperparameters, performance metrics, model artifacts, and lineage information for the current pyspark.ml workflow\n2024/05/01 07:30:18 WARNING mlflow.pyspark.ml: Model ALS_922f723a7ab2 will not be autologged because it is not allowlisted or or because one or more of its nested models are not allowlisted. Call mlflow.spark.log_model() to explicitly log the model, or specify a custom allowlist via the spark.mlflow.pysparkml.autolog.logModelAllowlistFile Spark conf (see mlflow.pyspark.ml.autolog docs for more info).\n"
     ]
    },
    {
     "output_type": "stream",
     "name": "stdout",
     "output_type": "stream",
     "text": [
      "RMSE for maxIter=15, regParam=0.01: 0.6316299617513097\n"
     ]
    },
    {
     "output_type": "stream",
     "name": "stderr",
     "output_type": "stream",
     "text": [
      "2024/05/01 07:30:31 INFO mlflow.utils.autologging_utils: Created MLflow autologging run with ID '3140a547e1df41ab8fcb954c19ace45b', which will track hyperparameters, performance metrics, model artifacts, and lineage information for the current pyspark.ml workflow\n2024/05/01 07:31:22 WARNING mlflow.pyspark.ml: Model ALS_54bff3a02a23 will not be autologged because it is not allowlisted or or because one or more of its nested models are not allowlisted. Call mlflow.spark.log_model() to explicitly log the model, or specify a custom allowlist via the spark.mlflow.pysparkml.autolog.logModelAllowlistFile Spark conf (see mlflow.pyspark.ml.autolog docs for more info).\n"
     ]
    },
    {
     "output_type": "stream",
     "name": "stdout",
     "output_type": "stream",
     "text": [
      "RMSE for maxIter=15, regParam=0.05: 0.6259637470015738\n"
     ]
    },
    {
     "output_type": "stream",
     "name": "stderr",
     "output_type": "stream",
     "text": [
      "2024/05/01 07:31:35 INFO mlflow.utils.autologging_utils: Created MLflow autologging run with ID '2e0b4d51bb644d5a8bba4bfb893281fa', which will track hyperparameters, performance metrics, model artifacts, and lineage information for the current pyspark.ml workflow\n2024/05/01 07:32:28 WARNING mlflow.pyspark.ml: Model ALS_c86198f461b3 will not be autologged because it is not allowlisted or or because one or more of its nested models are not allowlisted. Call mlflow.spark.log_model() to explicitly log the model, or specify a custom allowlist via the spark.mlflow.pysparkml.autolog.logModelAllowlistFile Spark conf (see mlflow.pyspark.ml.autolog docs for more info).\n"
     ]
    },
    {
     "output_type": "stream",
     "name": "stdout",
     "output_type": "stream",
     "text": [
      "RMSE for maxIter=15, regParam=0.1: 0.6845810997896209\n"
     ]
    },
    {
     "output_type": "display_data",
     "data": {
      "image/png": "[encoded data removed]",
      "text/plain": [
       "<Figure size 1000x600 with 1 Axes>"
      ]
     },
     "metadata": {},
     "output_type": "display_data"
    }
   ],
   "source": [
    "# Parameter Tuning With plotting\n",
    "param_grid = {'maxIter': [5, 10, 15], 'regParam': [0.001, 0.005, 0.01, 0.05, 0.1]} \n",
    "rmse_values = []\n",
    "\n",
    "for maxIter in param_grid['maxIter']:\n",
    "    for regParam in param_grid['regParam']:\n",
    "        als = ALS(maxIter=maxIter, regParam=regParam, userCol='UserID', itemCol='game_id', ratingCol='Hours_Played', seed=100, nonnegative=True)\n",
    "        model = als.fit(testing_data)\n",
    "        predictions = model.transform(testing_data).dropna()\n",
    "        \n",
    "        # Evaluate model using RegressionEvaluator\n",
    "        evaluator = RegressionEvaluator(metricName=\"rmse\", labelCol=\"Hours_Played\", predictionCol=\"prediction\")\n",
    "        rmse = evaluator.evaluate(predictions)\n",
    "        print(\"RMSE for maxIter={}, regParam={}: {}\".format(maxIter, regParam, rmse))\n",
    "        \n",
    "        # Append RMSE value to the list\n",
    "        rmse_values.append((maxIter, regParam, rmse))\n",
    "\n",
    "# Convert list of tuples to a DataFrame\n",
    "rmse_df = pd.DataFrame(rmse_values, columns=['maxIter', 'regParam', 'RMSE'])\n",
    "\n",
    "# Plot RMSE comparison\n",
    "plt.figure(figsize=(10, 6))\n",
    "for maxIter in param_grid['maxIter']:\n",
    "    subset = rmse_df[rmse_df['maxIter'] == maxIter]\n",
    "    plt.plot(subset['regParam'], subset['RMSE'], marker='o', label=f'maxIter={maxIter}')\n",
    "\n",
    "plt.title('RMSE Comparison for Different Parameter Combinations')\n",
    "plt.xlabel('regParam')\n",
    "plt.ylabel('RMSE')\n",
    "plt.legend()\n",
    "plt.grid(True)\n",
    "plt.show()\n"
   ]
  }
 ],
 "metadata": {
  "application/vnd.databricks.v1+notebook": {
   "dashboards": [],
   "language": "python",
   "notebookMetadata": {
    "pythonIndentUnit": 4
   },
   "notebookName": "ML_Egbule_00712602",
   "widgets": {}
  }
 },
 "nbformat": 4,
 "nbformat_minor": 0
}
